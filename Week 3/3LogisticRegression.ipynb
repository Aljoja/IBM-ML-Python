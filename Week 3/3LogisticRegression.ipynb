{
 "cells": [
  {
   "cell_type": "markdown",
   "metadata": {},
   "source": [
    "# Logistic Regression with Python\n",
    "\n",
    "In this notebook, you will learn Logistic Regression, and then, you'll create a model for a telecommunication company, \n",
    "to predict when its customers will leave for a competitor, so that they can take some action to retain the customers.\n",
    "\n",
    "\n",
    "# What is the difference between Linear and Logistic Regression?\n",
    "\n",
    "While Linear Regression is suited for estimating continuous values (e.g. estimating house price), it is not the best tool \n",
    "for predicting the class of an observed data point. In order to estimate the class of a data point, we need some sort of \n",
    "guidance on what would be the most probable class for that data point. For this, we use Logistic Regression.\n",
    "\n",
    "\n",
    "# Recall linear regression:\n",
    "\n",
    "As you know, Linear regression finds a function that relates a continuous dependent variable, y, to some predictors (independent variables  𝑥1 ,  𝑥2 , etc.). For example, Simple linear regression assumes a function of the form:\n",
    "\n",
    "                            y = theta_0 + theta_1*x_1 + theta_2*x_2\n",
    " \n",
    "and finds the values of parameters  theta_0, theta_1, theta_2 , etc, where the term  theta_0  is the \"intercept\". \n",
    "\n",
    "It can be generally shown as:\n",
    "\n",
    "                            h_{theta}(𝑥)=theta^{T}X   (T = transpose)\n",
    "                            \n",
    "Logistic Regression is a variation of Linear Regression, useful when the observed dependent variable, y, is categorical. \n",
    "It produces a formula that predicts the probability of the class label as a function of the independent variables.\n",
    "\n",
    "Logistic regression fits a special s-shaped curve by taking the linear regression and transforming the numeric estimate \n",
    "into a probability with the following function, which is called sigmoid function 𝜎:\n",
    "    \n",
    "                    ProbabilityOfaClass_1 = P(Y = 1|X) = sigma(theta^{T}X) = (e^{theta^{T}X})/(1 + e^{theta^{T}X)\n",
    "                    \n",
    "In this equation,  𝜃𝑇𝑋  is the regression result (the sum of the variables weighted by the coefficients), exp is the \n",
    "exponential function and  𝜎(𝜃𝑇𝑋)  is the sigmoid or logistic function, also called logistic curve. It is a common \"S\" \n",
    "shape (sigmoid curve).\n",
    "\n",
    "So, briefly, Logistic Regression passes the input through the logistic/sigmoid but then treats the result as a probability:\n",
    "    \n",
    "    [LOOK AT figure1 IN FOLDER]\n",
    "    \n",
    "The objective of Logistic Regression algorithm, is to find the best parameters θ, for  h_𝜃(𝑥)  =  𝜎(𝜃^{T}𝑋) , in such a way \n",
    "that the model best predicts the class of each case.\n",
    "\n",
    "\n",
    "# Customer churn with Logistic Regression\n",
    "\n",
    "A telecommunications company is concerned about the number of customers leaving their land-line business for cable competitors. \n",
    "They need to understand who is leaving. Imagine that you are an analyst at this company and you have to find out who is leaving \n",
    "and why.\n",
    "\n",
    "Lets first import required libraries:"
   ]
  },
  {
   "cell_type": "code",
   "execution_count": 1,
   "metadata": {},
   "outputs": [],
   "source": [
    "import pandas as pd\n",
    "import pylab as pl\n",
    "import numpy as np\n",
    "import scipy.optimize as opt\n",
    "from sklearn import preprocessing\n",
    "import matplotlib.pyplot as plt"
   ]
  },
  {
   "cell_type": "markdown",
   "metadata": {},
   "source": [
    "# About the dataset\n",
    "\n",
    "We will use a telecommunications dataset for predicting customer churn. This is a historical customer dataset where each row \n",
    "represents one customer. The data is relatively easy to understand, and you may uncover insights you can use immediately. \n",
    "Typically it is less expensive to keep customers than acquire new ones, so the focus of this analysis is to predict the customers \n",
    "who will stay with the company.\n",
    "\n",
    "This data set provides information to help you predict what behavior will help you to retain customers. You can analyze all relevant\n",
    "customer data and develop focused customer retention programs.\n",
    "\n",
    "The dataset includes information about:\n",
    "\n",
    "* Customers who left within the last month – the column is called Churn\n",
    "* Services that each customer has signed up for – phone, multiple lines, internet, online security, online backup, device protection, \n",
    "      tech support, and streaming TV and movies\n",
    "* Customer account information – how long they had been a customer, contract, payment method, paperless billing, monthly charges, \n",
    "      and total charges\n",
    "* Demographic info about customers – gender, age range, and if they have partners and dependents"
   ]
  }
 ],
 "metadata": {
  "kernelspec": {
   "display_name": "base",
   "language": "python",
   "name": "python3"
  },
  "language_info": {
   "codemirror_mode": {
    "name": "ipython",
    "version": 3
   },
   "file_extension": ".py",
   "mimetype": "text/x-python",
   "name": "python",
   "nbconvert_exporter": "python",
   "pygments_lexer": "ipython3",
   "version": "3.8.16"
  },
  "orig_nbformat": 4
 },
 "nbformat": 4,
 "nbformat_minor": 2
}
